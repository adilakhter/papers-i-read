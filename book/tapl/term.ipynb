{
 "cells": [
  {
   "cell_type": "markdown",
   "metadata": {},
   "source": [
    "# Terminology"
   ]
  },
  {
   "cell_type": "markdown",
   "metadata": {},
   "source": [
    "TODO\n",
    "\n",
    "- bound\n",
    "- open, close\n",
    "- fresh ($\\lambda$x:Unit.t2) t1, where the variable x is chosen *fresh* - i.e. different from all the free variables of t2"
   ]
  },
  {
   "cell_type": "markdown",
   "metadata": {
    "collapsed": true
   },
   "source": [
    "From P55 Chapter 5.1 Basics (of lambda-calculus)\n",
    "\n",
    "Bound\n",
    "\n",
    "> An occurrence of the vairable x is said to be **bound** when it occurs in the body t of an abstraction $\\lambda x.t$\n",
    "\n",
    "Free\n",
    "\n",
    "> An occurrence of x is **free** if it appears in a position where it is not bound by an enclosing abstraction on x. For example x in x y and $\\lambda y. x y$\n",
    "\n",
    "Closed\n",
    "\n",
    "> A term with no free variables is said to be **closed**; closed terms are also called **combinators**. The simplest combinator, called the identity function $id = \\lambda x.x;$"
   ]
  },
  {
   "cell_type": "code",
   "execution_count": null,
   "metadata": {
    "collapsed": true
   },
   "outputs": [],
   "source": []
  }
 ],
 "metadata": {
  "kernelspec": {
   "display_name": "Python 3",
   "language": "python",
   "name": "python3"
  },
  "language_info": {
   "codemirror_mode": {
    "name": "ipython",
    "version": 3
   },
   "file_extension": ".py",
   "mimetype": "text/x-python",
   "name": "python",
   "nbconvert_exporter": "python",
   "pygments_lexer": "ipython3",
   "version": "3.6.0"
  }
 },
 "nbformat": 4,
 "nbformat_minor": 2
}
