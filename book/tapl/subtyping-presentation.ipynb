{
 "cells": [
  {
   "cell_type": "markdown",
   "metadata": {},
   "source": [
    "# TAPL Subtyping"
   ]
  },
  {
   "cell_type": "markdown",
   "metadata": {},
   "source": [
    "## Table of content\n",
    "\n",
    "NOTE: the title of some sections are modfied to emphasize specific content\n",
    "\n",
    "- [Chapter 15 Subtyping](#subtyping)\n",
    "  - [15.1 motivation](#motivation)\n",
    "  - [15.2 Record](#record)\n",
    "  - [15.2 S-Arrow](#s-arrow)\n",
    "  - 15.3 Progress & Preservation (skipped)\n",
    "  - [15.4 Top & Bottom](#top-bottom)\n",
    "  - [15.5 Cast, Reference](#cast-ref)\n",
    "  - 15.6 Coercion Semantics for Subtyping (skipped)\n",
    "- [Chapter 16 Metatheory of Subtyping](#metatheory)\n",
    "  - 16.1 Alogrithmic Subtyping\n",
    "  - 16.2 Alogrithmic Typing\n",
    "- Chapter 17 An ML Implementation of Subtyping\n",
    "- [Reference](#reference)"
   ]
  },
  {
   "cell_type": "markdown",
   "metadata": {},
   "source": [
    "## 15 Subtyping <a name=\"subtyping\"></a>"
   ]
  },
  {
   "cell_type": "markdown",
   "metadata": {},
   "source": [
    "### 15.1 Motivation <a name=\"motivation\"></a>"
   ]
  },
  {
   "cell_type": "markdown",
   "metadata": {},
   "source": [
    "$$(\\lambda \\text{r:{x:Nat}. r.x) {x=0}}$$\n",
    "\n",
    "$$(\\lambda \\text{r:{x:Nat}. r.x) {x=0,y=1}}$$\n",
    "\n",
    "$$\\frac{\\Gamma \\vdash t_1 : T_{11} \\rightarrow T_{12} \\quad \\Gamma \\vdash t_2 : T_{11}}{\\Gamma \\vdash t_1 t_2 : T_{12}} \\quad\\quad \\textbf{(T-APP)}$$"
   ]
  },
  {
   "cell_type": "markdown",
   "metadata": {},
   "source": [
    "Intuitively, passing {x=0} and {x=0,y=1} to ($\\lambda$ r:{x:Nat}. r.x) should both yield 0, but the second application is not typable under our current typing rule. So we extend our rule to allow this kind of operation, where a more informative type ({x:Nat, y:Nat}) is used in the place of a less informative one ({x:Nat}).\n",
    "\n",
    "Foramally, S is a *subtype* of T written S <: T, mean any term of type S can safely be used in a context where a term of type T is expected\n",
    "\n",
    "$$\\frac{\\Gamma \\vdash t : S \\quad S <: T}{\\Gamma \\vdash t : T} \\quad\\quad \\textbf{(T-SUB)}$$"
   ]
  },
  {
   "cell_type": "markdown",
   "metadata": {},
   "source": [
    "Intuitively, our *subtype* relation also have reflexivity and transitivity\n",
    "\n",
    "$$ S <: S \\quad \\textbf{(S-REFL)}$$\n",
    "\n",
    "$$\\frac{S <:U \\quad U <: T}{S <: T} \\quad\\quad \\textbf{(S-TRANS)}$$"
   ]
  },
  {
   "cell_type": "markdown",
   "metadata": {},
   "source": [
    "### 15.2 Record <a name=\"record\"></a>"
   ]
  },
  {
   "cell_type": "markdown",
   "metadata": {},
   "source": [
    "Now let's formalize {x=0, y=1} <: {x=0} as **width subtyping** rule\n",
    "\n",
    "$$\\{l_i:T_i^{i \\in 1..n+k}\\} <: \\{l_i:T_i^{i \\in 1..n}\\} \\quad \\textbf{(S-RCDWIDTH)}$$"
   ]
  },
  {
   "cell_type": "markdown",
   "metadata": {},
   "source": [
    "It might looks counter intuitive that the \"smaller\" type (subtype) actually has more fields. That is because more fields in the record type means more restriction and a smaller set it can cover, the following [euler diargam](https://en.wikipedia.org/wiki/Euler_diagram) shows this relation, {x:Nat, y:Nat, z:Nat} <: {x:Nat, y:Nat} <: {x:Nat} and {x:Nat, y:Nat} <: {y:Nat}\n",
    "\n",
    "![record-width](record-width.png)"
   ]
  },
  {
   "cell_type": "markdown",
   "metadata": {},
   "source": [
    "In S-RcdWidth, we require each field has identitical type, however, this restriction can be loosen, they can have subtype relation, this gives us the **depth subtyping** rule\n",
    "\n",
    "$$\\frac{\\text{for each } i \\quad S_i <: T_i}{\\{l_i:S_i^{i \\in 1..n}\\} <: \\{l_i:T_i^{i \\in 1..n}\\}}$$"
   ]
  },
  {
   "cell_type": "markdown",
   "metadata": {},
   "source": [
    "We can combine S-RcdWidth and S-RcdDepth together\n",
    "\n",
    "$$\\frac{\n",
    "\\text{\\{ x: Nat, y: Nat, z: Nat\\}} <: \\text{\\{x: Nat, y: Nat\\}} \\quad \n",
    "\\text{\\{radius: Nat\\}} <: \\text{\\{radius: Nat\\}}\n",
    "}\n",
    "{\\text{\\{center: {x: Nat, y: Nat, z: Nat}, radius: Nat\\}} <: \\text{\\{center: {x: Nat, y: Nat}, radius: Nat\\}} }$$"
   ]
  },
  {
   "cell_type": "markdown",
   "metadata": {},
   "source": [
    "However, if we add mutable record, things might break after application"
   ]
  },
  {
   "cell_type": "markdown",
   "metadata": {},
   "source": [
    "````ocaml\n",
    "(* NOTE: this example is modifed from [2] for demonstration, it is not valid OCaml nor lambda-calculus *)\n",
    "let sphere = {center={x=1, y=2, z=3}, radius=2} in\n",
    "    let circle = sphere in \n",
    "        (* move a circle to the center of the axis *)\n",
    "        (lambda c:{center: {x: Nat, y:Nat}, radius: Nat}. c.center={x=0, y=0}) circle\n",
    "    (* what happens now? *)\n",
    "    sphere.center.z\n",
    "````"
   ]
  },
  {
   "cell_type": "markdown",
   "metadata": {},
   "source": [
    "In fact, record subtyping is not widely adopted, OCaml is using row-variable polymorphism for records [1]."
   ]
  },
  {
   "cell_type": "markdown",
   "metadata": {},
   "source": [
    "### 15.2 S-Arrow <a name=\"s-arrow\"></a>"
   ]
  },
  {
   "cell_type": "markdown",
   "metadata": {},
   "source": [
    "## Reference <a name=\"reference\"></a>"
   ]
  },
  {
   "cell_type": "markdown",
   "metadata": {},
   "source": [
    "Books\n",
    "\n",
    "- [1] Types and Programming Language (2nd Edition)\n",
    "\n",
    "Courses\n",
    "\n",
    "- [2] [Coursera Programming Languages Part C Week 3](https://www.coursera.org/learn/programming-languages-part-c/lecture/mdwdY/subtyping-from-the-beginning)\n",
    "- [3] [EPFL Type Systems 2004](http://lampwww.epfl.ch/teaching/archive/type_systems/2004/)\n",
    "- [4] [EPFL Foundations of Software 2017](https://fos2017.github.io/)\n",
    "\n",
    "Meetup\n",
    "\n",
    "- [5] [Computational Club (UK) TAPL reading meetup](https://github.com/computationclub/computationclub.github.io/wiki/Types-and-Programming-Languages-Chapter-15-Subtyping-%E2%80%93-Part-1)"
   ]
  }
 ],
 "metadata": {
  "kernelspec": {
   "display_name": "Python 3",
   "language": "python",
   "name": "python3"
  },
  "language_info": {
   "codemirror_mode": {
    "name": "ipython",
    "version": 3
   },
   "file_extension": ".py",
   "mimetype": "text/x-python",
   "name": "python",
   "nbconvert_exporter": "python",
   "pygments_lexer": "ipython3",
   "version": "3.6.0"
  }
 },
 "nbformat": 4,
 "nbformat_minor": 2
}
