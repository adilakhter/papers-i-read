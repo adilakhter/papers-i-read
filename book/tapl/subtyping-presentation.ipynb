{
 "cells": [
  {
   "cell_type": "markdown",
   "metadata": {
    "slideshow": {
     "slide_type": "slide"
    }
   },
   "source": [
    "# TAPL Subtyping\n",
    "\n",
    "Presented by [Pinglei Guo](https://github.com/at15) for [UCSC CMPS253](https://courses.soe.ucsc.edu/courses/cmps253) on 11/07/2017"
   ]
  },
  {
   "cell_type": "markdown",
   "metadata": {
    "slideshow": {
     "slide_type": "slide"
    }
   },
   "source": [
    "## Table of content\n",
    "\n",
    "NOTE: the title and order of some sections are modfied to emphasize specific content\n",
    "\n",
    "- [Chapter 15 Subtyping](#subtyping)\n",
    "  - [15.1 Motivation](#motivation)\n",
    "  - [15.2 Record](#record)\n",
    "  - [15.5 Variants](#variants)\n",
    "  - [15.2 S-Arrow](#s-arrow)\n",
    "  - 15.3 Progress & Preservation (skipped)\n",
    "  - [15.4 Top & Bottom](#top-bottom)\n",
    "  - [15.5 Cast, Reference](#cast-ref)\n",
    "  - 15.6 Coercion Semantics for Subtyping (skipped)\n",
    "- [Chapter 16 Metatheory of Subtyping](#metatheory)\n",
    "  - 16.1 Alogrithmic Subtyping\n",
    "  - 16.2 Alogrithmic Typing\n",
    "- Chapter 17 An ML Implementation of Subtyping\n",
    "- [Take away](#take-away)\n",
    "- [Reference](#reference)"
   ]
  },
  {
   "cell_type": "markdown",
   "metadata": {
    "slideshow": {
     "slide_type": "slide"
    }
   },
   "source": [
    "## 15 Subtyping <a name=\"subtyping\"></a>"
   ]
  },
  {
   "cell_type": "markdown",
   "metadata": {
    "slideshow": {
     "slide_type": "slide"
    }
   },
   "source": [
    "### 15.1 Motivation <a name=\"motivation\"></a>"
   ]
  },
  {
   "cell_type": "markdown",
   "metadata": {
    "slideshow": {
     "slide_type": "fragment"
    }
   },
   "source": [
    "Recall the typing rule for function application\n",
    "\n",
    "$$\\frac{\\Gamma \\vdash t_1 : T_{11} \\rightarrow T_{12} \\quad \\Gamma \\vdash t_2 : T_{11}}{\\Gamma \\vdash t_1 t_2 : T_{12}} \\quad\\quad \\textbf{(T-APP)}$$"
   ]
  },
  {
   "cell_type": "markdown",
   "metadata": {
    "slideshow": {
     "slide_type": "fragment"
    }
   },
   "source": [
    "This is a well typed term\n",
    "\n",
    "$$(\\lambda \\text{r:{x:Nat}. r.x) {x=0}}$$"
   ]
  },
  {
   "cell_type": "markdown",
   "metadata": {
    "slideshow": {
     "slide_type": "fragment"
    }
   },
   "source": [
    "This is not typable\n",
    "\n",
    "$$(\\lambda \\text{r:{x:Nat}. r.x) {x=0,y=1}}$$"
   ]
  },
  {
   "cell_type": "markdown",
   "metadata": {
    "slideshow": {
     "slide_type": "subslide"
    }
   },
   "source": [
    "TODO: rephrase this part\n",
    "\n",
    "Intuitively, passing {x=0} and {x=0,y=1} to ($\\lambda$ r:{x:Nat}. r.x) should both yield 0, but the second application is not typable under our current typing rule. So we extend our rule to allow this kind of operation, where a more informative type ({x:Nat, y:Nat}) is used in the place of a less informative one ({x:Nat}).\n",
    "\n",
    "Foramally, S is a *subtype* of T written S <: T, mean any term of type S can safely be used in a context where a term of type T is expected\n",
    "\n",
    "$$\\frac{\\Gamma \\vdash t : S \\quad S <: T}{\\Gamma \\vdash t : T} \\quad\\quad \\textbf{(T-SUB)}$$"
   ]
  },
  {
   "cell_type": "markdown",
   "metadata": {
    "slideshow": {
     "slide_type": "subslide"
    }
   },
   "source": [
    "Intuitively, our *subtype* relation also have reflexivity and transitivity\n",
    "\n",
    "$$ S <: S \\quad \\textbf{(S-REFL)}$$\n",
    "\n",
    "$$\\frac{S <:U \\quad U <: T}{S <: T} \\quad\\quad \\textbf{(S-TRANS)}$$"
   ]
  },
  {
   "cell_type": "markdown",
   "metadata": {
    "slideshow": {
     "slide_type": "slide"
    }
   },
   "source": [
    "### 15.2 Record <a name=\"record\"></a>"
   ]
  },
  {
   "cell_type": "markdown",
   "metadata": {
    "slideshow": {
     "slide_type": "subslide"
    }
   },
   "source": [
    "Now let's formalize {x=0, y=1} <: {x=0} as **width subtyping** rule\n",
    "\n",
    "$$\\{l_i:T_i^{i \\in 1..n+k}\\} <: \\{l_i:T_i^{i \\in 1..n}\\} \\quad \\textbf{(S-RCDWIDTH)}$$"
   ]
  },
  {
   "cell_type": "markdown",
   "metadata": {
    "slideshow": {
     "slide_type": "notes"
    }
   },
   "source": [
    "It might looks counter intuitive that the \"smaller\" type (subtype) actually has more fields. That is because more fields in the record type means more restriction and a smaller set it can cover, the following [euler diargam](https://en.wikipedia.org/wiki/Euler_diagram) shows this relation, {x:Nat, y:Nat, z:Nat} <: {x:Nat, y:Nat} <: {x:Nat} and {x:Nat, y:Nat} <: {y:Nat}\n",
    "\n"
   ]
  },
  {
   "cell_type": "markdown",
   "metadata": {
    "slideshow": {
     "slide_type": "subslide"
    }
   },
   "source": [
    "The \"smaller\" record type has more fields\n",
    "\n",
    "![record-width](record-width.png)\n",
    "\n",
    "If we specialize record to tuple, how many circle would left in above diagram?"
   ]
  },
  {
   "cell_type": "markdown",
   "metadata": {
    "slideshow": {
     "slide_type": "subslide"
    }
   },
   "source": [
    "In S-RcdWidth, we require each field has identitical type, however, this restriction can be loosen, they can have subtype relation, this gives us the **depth subtyping** rule\n",
    "\n",
    "$$\\frac{\\text{for each } i \\quad S_i <: T_i}{\\{l_i:S_i^{i \\in 1..n}\\} <: \\{l_i:T_i^{i \\in 1..n}\\}}$$"
   ]
  },
  {
   "cell_type": "markdown",
   "metadata": {
    "slideshow": {
     "slide_type": "fragment"
    }
   },
   "source": [
    "We can combine S-RcdWidth and S-RcdDepth together\n",
    "\n",
    "$$\\frac{\n",
    "\\text{\\{ x: Nat, y: Nat, z: Nat\\}} <: \\text{\\{x: Nat, y: Nat\\}} \\quad \n",
    "\\text{\\{radius: Nat\\}} <: \\text{\\{radius: Nat\\}}\n",
    "}\n",
    "{\\text{\\{center: {x: Nat, y: Nat, z: Nat}, radius: Nat\\}} <: \\text{\\{center: {x: Nat, y: Nat}, radius: Nat\\}} }$$"
   ]
  },
  {
   "cell_type": "markdown",
   "metadata": {
    "slideshow": {
     "slide_type": "subslide"
    }
   },
   "source": [
    "However, if we add mutable record, things might break after application"
   ]
  },
  {
   "cell_type": "markdown",
   "metadata": {
    "slideshow": {
     "slide_type": "fragment"
    }
   },
   "source": [
    "````ocaml\n",
    "(* NOTE: this example is modifed from [2] for demonstration, it is not valid OCaml nor lambda-calculus *)\n",
    "let sphere = {center={x=1, y=2, z=3}, radius=2} in\n",
    "    let circle = sphere in \n",
    "        (* move a circle to the center of the axis *)\n",
    "        (lambda c:{center: {x: Nat, y:Nat}, radius: Nat}. c.center={x=0, y=0}) circle\n",
    "    (* what happens now? *)\n",
    "    sphere.center.z\n",
    "````"
   ]
  },
  {
   "cell_type": "markdown",
   "metadata": {
    "slideshow": {
     "slide_type": "fragment"
    }
   },
   "source": [
    "In fact, record subtyping is not widely adopted, OCaml is using row-variable polymorphism for records [1]."
   ]
  },
  {
   "cell_type": "markdown",
   "metadata": {
    "slideshow": {
     "slide_type": "slide"
    }
   },
   "source": [
    "### 15.5 Variants <a name=\"variants\"></a>"
   ]
  },
  {
   "cell_type": "markdown",
   "metadata": {
    "slideshow": {
     "slide_type": "slide"
    }
   },
   "source": [
    "### 15.2 S-Arrow <a name=\"s-arrow\"></a>"
   ]
  },
  {
   "cell_type": "markdown",
   "metadata": {
    "slideshow": {
     "slide_type": "subslide"
    }
   },
   "source": [
    "In a high order language, function can be argument to other function, thus we have the following subtyping rule.\n",
    "\n",
    "$$\\frac{T_1 <: S_1 \\quad S_2 <: T_2}{S_1 \\rightarrow S_2 <: T_1 \\rightarrow T_2} \\quad\\quad (\\textbf{S-ARROW})$$"
   ]
  },
  {
   "cell_type": "markdown",
   "metadata": {
    "slideshow": {
     "slide_type": "notes"
    }
   },
   "source": [
    "Note on the left side of $\\rightarrow$, the relation is *contravariant* while on the right side, the relation is *covariant*, which is pretty counter intuitive. One might expect the left side (arugment) is convariant. This confusion arises from two parts:\n",
    "\n",
    "- in previous example of function application, we replace argument with its subtype. i.e. replace {x:Nat} with {x:Nat, y:Nat}\n",
    "- only think about the argument of the function, NOT taking function as a whole. [5]"
   ]
  },
  {
   "cell_type": "markdown",
   "metadata": {
    "slideshow": {
     "slide_type": "slide"
    }
   },
   "source": [
    "Let's look at a concrete example first, recall the typing rule for subtyping (T-SUB) is *any term of type S can safely be used in a context where a term of type T is expected*, we write a function that accept function as argument. For better illustration, we use a more Java like notation with function name and multiple arguments instead of lambda-calculus style. "
   ]
  },
  {
   "cell_type": "markdown",
   "metadata": {
    "collapsed": true,
    "slideshow": {
     "slide_type": "subslide"
    }
   },
   "source": [
    "````js\n",
    "/* \n",
    "* Game of the Type\n",
    "* Goal: reach the wall in the north, be (type) safe, John Snow\n",
    "*/\n",
    "\n",
    "/* move from the start point 10 times using the mover function */\n",
    "/* ({x:Nat, y:Nat} -> {x:Nat, y:Nat}) -> {x:Nat, y:Nat} -> {x:Nat, y:Nat} */\n",
    "function start_game(mover:{x:Nat, y:Nat} -> {x:Nat, y:Nat}, p:{x:Nat, y:Nat}) : {x:Nat, y:Nat} {\n",
    "    for i := 0; i < 10; i++ {\n",
    "        p := mover(p)\n",
    "    }\n",
    "    return p\n",
    "}\n",
    "\n",
    "/* walk in 2D */\n",
    "/* case 0: exact same type */\n",
    "function walk_north_east(p:{x:Nat, y:Nat}) : {x:Nat, y:Nat} {\n",
    "    return {x=p.x+1, y=p.y-1}\n",
    "}\n",
    "\n",
    "/* grab a dragon and fly north in 3D */\n",
    "/* case 1: covariant in both argument and return value, {x:Nat, y:Nat, z:Nat} <: {x:Nat, y:Nat} */\n",
    "function fly_north_east_high(p:{x:Nat, y:Nat, z:Nat}) : {x:Nat, y:Nat, z:Nat} {\n",
    "    return {x=p.x+1, y=p.y-1, z=p.z+1}\n",
    "}\n",
    "\n",
    "/* walk in 1D */\n",
    "/* case 2: contravariant in both argument and return value */\n",
    "function walk_north_only(p:{y:Nat}) : {y:Nat} {\n",
    "    return {y=p.y-1}\n",
    "}\n",
    "\n",
    "/* walk in 1D but expand to 3D */\n",
    "/* case 3: contravariant in argument but covariant in return value */\n",
    "function walk_north_3D(p:{y:Nat}) : {x:Nat, y:Nat, z:Nat} {\n",
    "    return {x=0, y=p.y-1, z=0}\n",
    "}\n",
    "\n",
    "/* fly in 3D but shrink to 1D */\n",
    "/* case 4: covariant in argument but contravariant in return value */\n",
    "function fly_north_1D(p:{x:Nat, y:Nat, z:Nat}) : {y:Nat} {\n",
    "    s = {x=p.x, y=p.y-1, z=p.z}\n",
    "    return {y=s.y}\n",
    "}\n",
    "````"
   ]
  },
  {
   "cell_type": "code",
   "execution_count": 16,
   "metadata": {
    "collapsed": false,
    "slideshow": {
     "slide_type": "slide"
    }
   },
   "outputs": [
    {
     "name": "stdout",
     "output_type": "stream",
     "text": [
      "walk_north_east reaches x: 10 y: 20\n"
     ]
    }
   ],
   "source": [
    "# move from the start point 10 times using the mover function\n",
    "# ({x:Nat, y:Nat} -> {x:Nat, y:Nat}) -> {x:Nat, y:Nat} -> {x:Nat, y:Nat}\n",
    "def start_game(mover, p):\n",
    "    for i in range(10):\n",
    "        p = mover(p)\n",
    "    print('{} reaches x: {} y: {}'.format(mover.__name__, p['x'], p['y']))\n",
    "\n",
    "# walk all the way north \n",
    "# case 0: exact same type \n",
    "# {x:Nat, y:Nat} -> {x:Nat, y:Nat}\n",
    "def walk_north_east(p):\n",
    "    return {'x': p['x'] + 1, 'y': p['y'] + 2}\n",
    "\n",
    "start_game(mover=walk_north_east, p={'x': 0, 'y': 0})"
   ]
  },
  {
   "cell_type": "code",
   "execution_count": 17,
   "metadata": {
    "collapsed": false,
    "slideshow": {
     "slide_type": "slide"
    }
   },
   "outputs": [],
   "source": [
    "# grab a dragon and fly north\n",
    "# case 1: covariant in both argument and return value, {x:Nat, y:Nat, z:Nat} <: {x:Nat, y:Nat}\n",
    "# {x:Nat, y:Nat, z:Nat} -> {x:Nat, y:Nat, z:Nat}\n",
    "def fly_north_east_high(p):\n",
    "    return {'x': p['x'] + 1, 'y': p['y'] + 2, 'z': p['z'] + 1}"
   ]
  },
  {
   "cell_type": "code",
   "execution_count": 18,
   "metadata": {
    "collapsed": false,
    "slideshow": {
     "slide_type": "subslide"
    }
   },
   "outputs": [
    {
     "name": "stdout",
     "output_type": "stream",
     "text": [
      "'z' is expected but not presented for mover: fly_north_east_high\n"
     ]
    }
   ],
   "source": [
    "try:\n",
    "    start_game(mover=fly_north_east_high, p={'x': 0, 'y': 0})\n",
    "except KeyError as err:\n",
    "    print('{} is expected but not presented for mover: {}'.format(err, fly_north_east_high.__name__))"
   ]
  },
  {
   "cell_type": "markdown",
   "metadata": {
    "slideshow": {
     "slide_type": "slide"
    }
   },
   "source": [
    "Actually `fly_north` does work sometime, but we want our type system to be sound, not *it might work*"
   ]
  },
  {
   "cell_type": "code",
   "execution_count": 19,
   "metadata": {
    "collapsed": false,
    "slideshow": {
     "slide_type": "subslide"
    }
   },
   "outputs": [
    {
     "name": "stdout",
     "output_type": "stream",
     "text": [
      "fly_north_east_high reaches x: 10 y: 20\n"
     ]
    }
   ],
   "source": [
    "start_game(mover=fly_north_east_high, p={'x': 0, 'y': 0, 'z': 0})"
   ]
  },
  {
   "cell_type": "code",
   "execution_count": 20,
   "metadata": {
    "collapsed": false,
    "slideshow": {
     "slide_type": "slide"
    }
   },
   "outputs": [
    {
     "name": "stdout",
     "output_type": "stream",
     "text": [
      "'x' is expected but not presented for printing final position when using: walk_north_only\n"
     ]
    }
   ],
   "source": [
    "def walk_north_only(p):\n",
    "    return {'y': p['y'] + 1}\n",
    "\n",
    "try:\n",
    "    start_game(mover=walk_north_only, p={'x': 0, 'y': 0})\n",
    "except KeyError as err:\n",
    "    print('{} is expected but not presented for printing final position when using: {}'.format(err, walk_north_only.__name__))"
   ]
  },
  {
   "cell_type": "code",
   "execution_count": 21,
   "metadata": {
    "collapsed": false,
    "slideshow": {
     "slide_type": "subslide"
    }
   },
   "outputs": [
    {
     "name": "stdout",
     "output_type": "stream",
     "text": [
      "walk_north_3D reaches x: 0 y: 10\n"
     ]
    }
   ],
   "source": [
    "def walk_north_3D(p):\n",
    "    return {'x': 0, 'y': p['y'] + 1, 'z': 0}\n",
    "\n",
    "start_game(mover=walk_north_3D, p={'x': 0, 'y': 0})"
   ]
  },
  {
   "cell_type": "code",
   "execution_count": 22,
   "metadata": {
    "collapsed": false,
    "slideshow": {
     "slide_type": "slide"
    }
   },
   "outputs": [
    {
     "name": "stdout",
     "output_type": "stream",
     "text": [
      "'z' is expected but not presented for printing final position when using: fly_north_1D\n"
     ]
    }
   ],
   "source": [
    "def fly_north_1D(p):\n",
    "    s = {'x': p['x'], 'y': p['y'] - 1, 'z': p['z']}\n",
    "    return {'y': p['y']}\n",
    "\n",
    "try:\n",
    "    start_game(mover=fly_north_1D, p={'x': 0, 'y': 0})\n",
    "except KeyError as err:\n",
    "    print('{} is expected but not presented for printing final position when using: {}'.format(err, fly_north_1D.__name__))"
   ]
  },
  {
   "cell_type": "markdown",
   "metadata": {},
   "source": [
    "Another way to think about is treat function as funnel [5] TODO: illustration"
   ]
  },
  {
   "cell_type": "markdown",
   "metadata": {
    "slideshow": {
     "slide_type": "slide"
    }
   },
   "source": [
    "## Take away <a name=\"take-away\"></a>"
   ]
  },
  {
   "cell_type": "markdown",
   "metadata": {
    "slideshow": {
     "slide_type": "slide"
    }
   },
   "source": [
    "## Reference <a name=\"reference\"></a>"
   ]
  },
  {
   "cell_type": "markdown",
   "metadata": {
    "slideshow": {
     "slide_type": "subslide"
    }
   },
   "source": [
    "Books\n",
    "\n",
    "- [1] Types and Programming Language (2nd Edition)\n",
    "\n",
    "Courses\n",
    "\n",
    "- [2] [Coursera Programming Languages Part C Week 3](https://www.coursera.org/learn/programming-languages-part-c/lecture/mdwdY/subtyping-from-the-beginning)\n",
    "- [3] [EPFL Type Systems 2004](http://lampwww.epfl.ch/teaching/archive/type_systems/2004/)\n",
    "- [4] [EPFL Foundations of Software 2017](https://fos2017.github.io/)\n",
    "\n",
    "Meetup\n",
    "\n",
    "- [5] [Computational Club (UK) TAPL reading meetup](https://github.com/computationclub/computationclub.github.io/wiki/Types-and-Programming-Languages-Chapter-15-Subtyping-%E2%80%93-Part-1)\n",
    "\n",
    "Miscellaneous\n",
    "\n",
    "- http://www.slideviper.oquanta.info/tutorial/slideshow_tutorial_slides.html#/\n",
    "- [Presenting slide using Jupyter notebook](https://medium.com/@mjspeck/presenting-code-using-jupyter-notebook-slides-a8a3c3b59d67)"
   ]
  }
 ],
 "metadata": {
  "celltoolbar": "Slideshow",
  "kernelspec": {
   "display_name": "Python 3",
   "language": "python",
   "name": "python3"
  },
  "language_info": {
   "codemirror_mode": {
    "name": "ipython",
    "version": 3
   },
   "file_extension": ".py",
   "mimetype": "text/x-python",
   "name": "python",
   "nbconvert_exporter": "python",
   "pygments_lexer": "ipython3",
   "version": "3.6.0"
  }
 },
 "nbformat": 4,
 "nbformat_minor": 2
}
