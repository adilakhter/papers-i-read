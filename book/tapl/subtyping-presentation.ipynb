{
 "cells": [
  {
   "cell_type": "markdown",
   "metadata": {
    "slideshow": {
     "slide_type": "slide"
    }
   },
   "source": [
    "# TAPL Subtyping\n",
    "\n",
    "Presented by [Pinglei Guo](https://github.com/at15) for [UCSC CMPS253](https://courses.soe.ucsc.edu/courses/cmps253) on 11/07/2017"
   ]
  },
  {
   "cell_type": "markdown",
   "metadata": {
    "slideshow": {
     "slide_type": "slide"
    }
   },
   "source": [
    "## Table of content\n",
    "\n",
    "NOTE: the title and order of some sections are modfied to emphasize specific content\n",
    "\n",
    "- [Notation](#notation)\n",
    "- [Chapter 15 Subtyping](#subtyping)\n",
    "  - [15.1 Motivation](#motivation)\n",
    "  - [15.2 Record](#record)\n",
    "  - [15.5 Variants](#variants)\n",
    "  - [15.2 **S-Arrow**](#s-arrow)\n",
    "  - 15.3 Progress & Preservation (skipped)\n",
    "  - [15.4 Top & Bottom](#top-bottom)\n",
    "  - [15.5 Cast, Reference](#cast-reference)\n",
    "  - 15.6 Coercion Semantics for Subtyping (skipped)\n",
    "- [Chapter 16 Metatheory of Subtyping](#metatheory)\n",
    "  - [16.1 Algorithmic Subtyping](#algorithmic-subtyping)\n",
    "  - [16.2 Algorithmic Typing](#algorithmic-typing)\n",
    "- Chapter 17 An ML Implementation of Subtyping\n",
    "- [Take away](#take-away)\n",
    "- [Reference](#reference)"
   ]
  },
  {
   "cell_type": "markdown",
   "metadata": {
    "slideshow": {
     "slide_type": "slide"
    }
   },
   "source": [
    "## Notation\n",
    "\n",
    "We use a more Java-style pseudo code instead of lambda-calculus to have named function and multi arguments\n",
    "\n",
    "The style we should use\n",
    "\n",
    "````ocaml\n",
    "(* NOTE: from [2], rewrite in a mix of OCaml and lambda-calculus, won't compile *)\n",
    "let sphere = {center={x=1, y=2, z=3}, radius=2} in\n",
    "    let circle = sphere in \n",
    "        (lambda c:{center: {x: Nat, y:Nat}, radius: Nat}. c.center={x=0, y=0}) circle\n",
    "    sphere.center.z\n",
    "````\n",
    "\n",
    "The style we actually use (similar to [2])\n",
    "\n",
    "````javascript\n",
    "/* {center: {x:Nat, y:Nat}, radius: Nat} -> Unit */\n",
    "function move_to_origin(c: {center: {x:Nat, y:Nat}, radius: Nat}) : Unit {\n",
    "    c.center = {x=0, y=0}\n",
    "}\n",
    "var sphere = {center={x=1, y=2, z=3}, radius=2}\n",
    "move_to_origin(sphere)\n",
    "sphere.center.z\n",
    "````"
   ]
  },
  {
   "cell_type": "markdown",
   "metadata": {
    "slideshow": {
     "slide_type": "slide"
    }
   },
   "source": [
    "## 15 Subtyping <a name=\"subtyping\"></a>"
   ]
  },
  {
   "cell_type": "markdown",
   "metadata": {
    "slideshow": {
     "slide_type": "slide"
    }
   },
   "source": [
    "### 15.1 Motivation <a name=\"motivation\"></a>"
   ]
  },
  {
   "cell_type": "markdown",
   "metadata": {
    "slideshow": {
     "slide_type": "subslide"
    }
   },
   "source": [
    "Recall the typing rule for function application\n",
    "\n",
    "$$\\frac{\\Gamma \\vdash t_1 : T_{11} \\rightarrow T_{12} \\quad \\Gamma \\vdash t_2 : T_{11}}{\\Gamma \\vdash t_1 \\ t_2 : T_{12}} \\quad\\quad \\textbf{(T-APP)}$$"
   ]
  },
  {
   "cell_type": "markdown",
   "metadata": {
    "slideshow": {
     "slide_type": "fragment"
    }
   },
   "source": [
    "This is a well typed term\n",
    "\n",
    "$$(\\lambda \\text{r:{x:Nat}. r.x) {x=0}}$$"
   ]
  },
  {
   "cell_type": "markdown",
   "metadata": {
    "slideshow": {
     "slide_type": "fragment"
    }
   },
   "source": [
    "This is not typable, but it looks reasonable\n",
    "\n",
    "$$(\\lambda \\text{r:{x:Nat}. r.x) {x=0,y=1}}$$"
   ]
  },
  {
   "cell_type": "markdown",
   "metadata": {
    "slideshow": {
     "slide_type": "notes"
    }
   },
   "source": [
    "However, passing {x=0,y=1} to ($\\lambda$ r:{x:Nat}. r.x) should yield 0, the function only needs field x and don't care other fields in record. So we extend our rule to allow this kind of operation, where a more informative type ({x:Nat, y:Nat}) is used in the place of a less informative one ({x:Nat})."
   ]
  },
  {
   "cell_type": "markdown",
   "metadata": {
    "slideshow": {
     "slide_type": "subslide"
    }
   },
   "source": [
    "We can use {x=0, y=1} in palace of {x=0}, we say {x:Nat, y:Nat} is a subtype, written <: of {x:Nat}. It's sub because the number of records of the subtype is less. [3]"
   ]
  },
  {
   "cell_type": "markdown",
   "metadata": {
    "slideshow": {
     "slide_type": "fragment"
    }
   },
   "source": [
    "Foramally, S is a *subtype* of T written S <: T, mean any term of type S can safely be used in a context where a term of type T is expected\n",
    "\n",
    "$$\\frac{\\Gamma \\vdash t : S \\quad S <: T}{\\Gamma \\vdash t : T} \\quad\\quad \\textbf{(T-SUB)}$$"
   ]
  },
  {
   "cell_type": "markdown",
   "metadata": {
    "slideshow": {
     "slide_type": "fragment"
    }
   },
   "source": [
    "Intuitively, our *subtype* relation also have reflexivity and transitivity\n",
    "\n",
    "$$ S <: S \\quad \\textbf{(S-REFL)}$$\n",
    "\n",
    "$$\\frac{S <:U \\quad U <: T}{S <: T} \\quad\\quad \\textbf{(S-TRANS)}$$"
   ]
  },
  {
   "cell_type": "markdown",
   "metadata": {
    "slideshow": {
     "slide_type": "subslide"
    }
   },
   "source": [
    "**Question**\n",
    "\n",
    "Anything strange about our T-SUB rule compared w/ other typing rules when syntax is considered?\n",
    "\n",
    "Syntax\n",
    "\n",
    "````\n",
    "t :: = x               variable\n",
    "     lambda x:T. t     abstraction (function)\n",
    "     t t               application (function call)\n",
    "````\n",
    "\n",
    "Typing rules\n",
    "\n",
    "$$\\frac{\\Gamma,x:T_1 \\vdash t_2:T_2}{\\Gamma \\vdash \\lambda x:T_1. t_2:T_1 \\rightarrow T_2} \\quad\\quad \\textbf{(T-ABS)}$$\n",
    "\n",
    "\n",
    "$$\\frac{\\Gamma \\vdash t_1 : T_{11} \\rightarrow T_{12} \\quad \\Gamma \\vdash t_2 : T_{11}}{\\Gamma \\vdash t_1 \\ t_2 : T_{12}} \\quad\\quad \\textbf{(T-APP)}$$\n",
    "\n",
    "\n",
    "$$\\frac{\\Gamma \\vdash t : S \\quad S <: T}{\\Gamma \\vdash t : T} \\quad\\quad \\textbf{(T-SUB)}$$"
   ]
  },
  {
   "cell_type": "markdown",
   "metadata": {
    "slideshow": {
     "slide_type": "notes"
    }
   },
   "source": [
    "This will be answered in [Chapter 16](#metatheory)"
   ]
  },
  {
   "cell_type": "markdown",
   "metadata": {
    "slideshow": {
     "slide_type": "slide"
    }
   },
   "source": [
    "### 15.2 Record <a name=\"record\"></a>"
   ]
  },
  {
   "cell_type": "markdown",
   "metadata": {
    "slideshow": {
     "slide_type": "subslide"
    }
   },
   "source": [
    "We formalize {x=0, y=1} <: {x=0} as **width subtyping** rule\n",
    "\n",
    "$$\\{l_i:T_i^{i \\in 1..n+k}\\} <: \\{l_i:T_i^{i \\in 1..n}\\} \\quad \\textbf{(S-RCDWIDTH)}$$"
   ]
  },
  {
   "cell_type": "markdown",
   "metadata": {
    "slideshow": {
     "slide_type": "notes"
    }
   },
   "source": [
    "It might looks counter intuitive that the \"smaller\" type (subtype) actually has more fields. That is because more fields in the record type means more restriction and a smaller set it can cover, the following [euler diargam](https://en.wikipedia.org/wiki/Euler_diagram) shows this relation, {x:Nat, y:Nat, z:Nat} <: {x:Nat, y:Nat} <: {x:Nat} and {x:Nat, y:Nat} <: {y:Nat}\n",
    "\n"
   ]
  },
  {
   "cell_type": "markdown",
   "metadata": {
    "slideshow": {
     "slide_type": "subslide"
    }
   },
   "source": [
    "The \"smaller\" record type has more fields because there are less records of this type\n",
    "\n",
    "![record-width](record-width.png)\n",
    "\n",
    "**Question**\n",
    "\n",
    "If we specialize record to tuple, how many circle would left in above diagram?"
   ]
  },
  {
   "cell_type": "markdown",
   "metadata": {
    "slideshow": {
     "slide_type": "subslide"
    }
   },
   "source": [
    "In **S-RcdWidth**, we require each field has identitical type, however, this restriction can be loosen, they can have subtype relation, this gives us the **depth subtyping** rule\n",
    "\n",
    "$$\\frac{\\text{for each } i \\quad S_i <: T_i}{\\{l_i:S_i^{i \\in 1..n}\\} <: \\{l_i:T_i^{i \\in 1..n}\\}} \\quad\\quad \\textbf{(S-RCDDEPTH)}$$"
   ]
  },
  {
   "cell_type": "markdown",
   "metadata": {
    "slideshow": {
     "slide_type": "fragment"
    }
   },
   "source": [
    "We can combine **S-RcdWidth** and **S-RcdDepth** together\n",
    "\n",
    "$$\\frac{\n",
    "\\text{\\{ x: Nat, y: Nat, z: Nat\\}} <: \\text{\\{x: Nat, y: Nat\\}} \\quad \n",
    "\\text{\\{radius: Nat\\}} <: \\text{\\{radius: Nat\\}}\n",
    "}\n",
    "{\\text{\\{center: {x: Nat, y: Nat, z: Nat}, radius: Nat\\}} <: \\text{\\{center: {x: Nat, y: Nat}, radius: Nat\\}} }$$"
   ]
  },
  {
   "cell_type": "markdown",
   "metadata": {
    "slideshow": {
     "slide_type": "subslide"
    }
   },
   "source": [
    "**Question**\n",
    "\n",
    "If we allow mutable record, what would happen?\n",
    "\n",
    "````javascript\n",
    "/* {center: {x:Nat, y:Nat}, radius: Nat} -> Unit */\n",
    "function move_to_origin(c: {center: {x:Nat, y:Nat}, radius: Nat}) : Unit {\n",
    "    c.center = {x=0, y=0}\n",
    "}\n",
    "var sphere = {center={x=1, y=2, z=3}, radius=2}\n",
    "move_to_origin(sphere)\n",
    "sphere.center.z // 3?\n",
    "````"
   ]
  },
  {
   "cell_type": "markdown",
   "metadata": {
    "slideshow": {
     "slide_type": "notes"
    }
   },
   "source": [
    "This will be answered in [15.5](#cast-reference)"
   ]
  },
  {
   "cell_type": "markdown",
   "metadata": {
    "slideshow": {
     "slide_type": "subslide"
    }
   },
   "source": [
    "The order of fields in record type does not have impact on safety because our projection is insensitive to it, so we have the last rule for record **S-RcdPerm**\n",
    "\n",
    "$$\\{l_i:T_i^{i \\in 1..n+k}\\} <: \\{l_i:T_i^{i \\in 1..n}\\} \\quad \\textbf{(S-RCDWIDTH)}$$\n",
    "\n",
    "$$\\frac{\\text{for each } i \\quad S_i <: T_i}{\\{l_i:S_i^{i \\in 1..n}\\} <: \\{l_i:T_i^{i \\in 1..n}\\}} \\quad\\quad \\textbf{(S-RCDDEPTH)}$$\n",
    "\n",
    "$$\\frac{\\{k_j:S_j^{j\\in 1..n}\\} \\text{ is a permuatation of } \\{l_i:T_i^{i\\in 1..n}\\}}\n",
    "{\\{k_j:S_j^{j\\in 1..n}\\} <: \\{l_i:T_i^{i\\in 1..n}\\}} \n",
    "\\quad\\quad \\textbf{(S-RCDPERM)}$$\n",
    "\n",
    "In fact, record subtyping is not widely adopted, OCaml is using row-variable polymorphism for records [1]."
   ]
  },
  {
   "cell_type": "markdown",
   "metadata": {
    "slideshow": {
     "slide_type": "slide"
    }
   },
   "source": [
    "### 15.5 Variants <a name=\"variants\"></a>"
   ]
  },
  {
   "cell_type": "markdown",
   "metadata": {
    "slideshow": {
     "slide_type": "subslide"
    }
   },
   "source": [
    "Variants is similar to record in some sense, record is a combination of many types, variant is also a combination of many types, but it can only be one of them at given time. Intuitively we have depth and permutation rule for variants.\n",
    "\n",
    "$$\\frac{\\text{for each } i \\quad S_i <: T_i}{\\{l_i:S_i^{i \\in 1..n}\\} <: \\{l_i:T_i^{i \\in 1..n}\\}} \\quad\\quad \\textbf{(S-RCDDEPTH)}$$\n",
    "\n",
    "$$\\frac{\\text{for each } i \\quad S_i <: T_i}{\\langle l_i:S_i^{i \\in 1..n}\\rangle <: \\langle l_i:T_i^{i \\in 1..n}\\rangle} \\quad\\quad \\textbf{(S-VARIANTDEPTH)}$$\n",
    "\n",
    "\n",
    "$$\\frac{\\{k_j:S_j^{j\\in 1..n}\\} \\text{ is a permuatation of } \\{l_i:T_i^{i\\in 1..n}\\}}\n",
    "{\\{k_j:S_j^{j\\in 1..n}\\} <: \\{l_i:T_i^{i\\in 1..n}\\}} \n",
    "\\quad\\quad \\textbf{(S-RCDPERM)}$$\n",
    "\n",
    "$$\\frac{\\langle k_j:S_j^{j\\in 1..n}\\rangle \\text{ is a permuatation of } \\langle l_i:T_i^{i\\in 1..n}\\rangle}\n",
    "{\\langle k_j:S_j^{j\\in 1..n}\\rangle <: \\langle l_i:T_i^{i\\in 1..n}\\rangle}\n",
    "\\quad \\textbf{(S-VARIANTPERM)}$$\n"
   ]
  },
  {
   "cell_type": "markdown",
   "metadata": {
    "slideshow": {
     "slide_type": "subslide"
    }
   },
   "source": [
    "But what about width rule?\n",
    "\n",
    "$$\\{l_i:T_i^{i \\in 1..n+k}\\} <: \\{l_i:T_i^{i \\in 1..n}\\} \\quad \\textbf{(S-RCDWIDTH)}$$"
   ]
  },
  {
   "cell_type": "markdown",
   "metadata": {
    "slideshow": {
     "slide_type": "fragment"
    }
   },
   "source": [
    "$$\\langle l_i:T_i^{i \\in 1..n}\\rangle <: \\langle l_i:T_i^{i \\in 1..n+k}\\rangle \\quad \\textbf{(S-VARIANTWIDTH)}$$"
   ]
  },
  {
   "cell_type": "markdown",
   "metadata": {
    "slideshow": {
     "slide_type": "subslide"
    }
   },
   "source": [
    "Why the opposite in record and variants?\n",
    "\n",
    "- record: more fields means more requirement, less choice, thus subtype\n",
    "- variants: more fields means more choice, thus supertype\n",
    "\n",
    "![record-variant](record-variant-width.png)\n"
   ]
  },
  {
   "cell_type": "markdown",
   "metadata": {
    "slideshow": {
     "slide_type": "slide"
    }
   },
   "source": [
    "### 15.2 S-Arrow <a name=\"s-arrow\"></a>"
   ]
  },
  {
   "cell_type": "markdown",
   "metadata": {
    "slideshow": {
     "slide_type": "subslide"
    }
   },
   "source": [
    "In a high order language, function can be argument to other function. Recall our subtyping rule, t does not have to be a variable term.\n",
    "\n",
    "$$\\frac{\\Gamma \\vdash t : S \\quad S <: T}{\\Gamma \\vdash t : T} \\quad\\quad \\textbf{(T-SUB)}$$"
   ]
  },
  {
   "cell_type": "markdown",
   "metadata": {
    "slideshow": {
     "slide_type": "fragment"
    }
   },
   "source": [
    "The text book says we should use this one for function type\n",
    "\n",
    "$$\\frac{T_1 <: S_1 \\quad S_2 <: T_2}{S_1 \\rightarrow S_2 <: T_1 \\rightarrow T_2} \\quad\\quad (\\textbf{S-ARROW})$$"
   ]
  },
  {
   "cell_type": "markdown",
   "metadata": {
    "slideshow": {
     "slide_type": "fragment"
    }
   },
   "source": [
    "But there are total 4 combination, what about the other 3?\n",
    "\n",
    "$$\\frac{S_1 <: T_1 \\quad S_2 <: T_2}{S_1 \\rightarrow S_2 <: T_1 \\rightarrow T_2} \\quad\\quad (\\textbf{S-ARROW-1})$$\n",
    "\n",
    "$$\\frac{T_1 <: S_1 \\quad T_2 <: S_2}{S_1 \\rightarrow S_2 <: T_1 \\rightarrow T_2} \\quad\\quad (\\textbf{S-ARROW-2})$$\n",
    "\n",
    "$$\\frac{S_1 <: T_1 \\quad T_2 <: S_2}{S_1 \\rightarrow S_2 <: T_1 \\rightarrow T_2} \\quad\\quad (\\textbf{S-ARROW-3})$$"
   ]
  },
  {
   "cell_type": "markdown",
   "metadata": {
    "slideshow": {
     "slide_type": "notes"
    }
   },
   "source": [
    "Note on the left side of $\\rightarrow$, the relation is *contravariant* while on the right side, the relation is *covariant*, which is pretty counter intuitive. One might expect the left side (arugment) is convariant. Possible source of confusion are:\n",
    "\n",
    "- in previous example of function application, we replace argument with its subtype. i.e. replace {x:Nat} with {x:Nat, y:Nat}\n",
    "- only think about the argument of the function, NOT taking function as a whole. [5]"
   ]
  },
  {
   "cell_type": "markdown",
   "metadata": {
    "slideshow": {
     "slide_type": "subslide"
    }
   },
   "source": [
    "Let's look at a concrete example before we dive into this rule. \n",
    "\n",
    "Assume we have a game called Game of the Type, you are the main character John Calculus, you want to travel to the north safely, you can use the following transportation for one time and walk all the rest\n",
    "\n",
    "- a dragon rent from Nights King, can fly or crawl on the ground if you like\n",
    "- a train called ruby, can only move veritically on rails"
   ]
  },
  {
   "cell_type": "markdown",
   "metadata": {
    "collapsed": true,
    "slideshow": {
     "slide_type": "subslide"
    }
   },
   "source": [
    "Following is the Pseudo-Code, the implementation is written in python and use dict to represent record.\n",
    "\n",
    "````js\n",
    "/* \n",
    "* Game of the Type - The Journey of John Calculus\n",
    "*/\n",
    "var start = {x:0, y:0} // your home\n",
    "var end = {x:101, y:505} // the wall\n",
    "\n",
    "function train(p:{y:Nat}) : {y:Nat} {\n",
    "    return {y=p.y+50}\n",
    "}\n",
    "\n",
    "function walk(p:{x:Nat, y:Nat}) : {x:Nat, y:Nat} {\n",
    "    return {x=p.x+1, y=p.y+5}\n",
    "}\n",
    "\n",
    "function dragon(p:{x:Nat, y:Nat, z:Nat}) : {x:Nat, y:Nat, z:Nat} {\n",
    "    return {x=p.x+10, y=p.y+50, z=p.z+1}\n",
    "}\n",
    "\n",
    "function travel(transport:{x:Nat, y:Nat} -> {x:Nat, y:Nat}, s:{x:Nat, y:Nat}) : Unit {\n",
    "    p := transport(s)\n",
    "    p := walk(p)\n",
    "    print(p)\n",
    "}\n",
    "````"
   ]
  },
  {
   "cell_type": "markdown",
   "metadata": {
    "slideshow": {
     "slide_type": "subslide"
    }
   },
   "source": [
    "Case-0, walk all the way (exact same type)\n",
    "\n",
    "$$S_1 = T_1 = \\text{\\{x:Nat, y:Nat\\}}=  S_2 = T_2$$"
   ]
  },
  {
   "cell_type": "code",
   "execution_count": 1,
   "metadata": {
    "collapsed": false,
    "slideshow": {
     "slide_type": "fragment"
    }
   },
   "outputs": [
    {
     "name": "stdout",
     "output_type": "stream",
     "text": [
      "walk and walk, now I am at {'x': 2, 'y': 10}\n"
     ]
    }
   ],
   "source": [
    "start = {'x': 0, 'y': 0}\n",
    "\n",
    "# {x:Nat, y:Nat} -> {x:Nat, y:Nat}\n",
    "def walk(p):\n",
    "    return {'x': p['x']+1, 'y': p['y']+5}\n",
    "\n",
    "# ({x:Nat, y:Nat} -> {x:Nat, y:Nat}) -> {x:Nat, y:Nat} -> Unit\n",
    "def travel(transport, s):\n",
    "    p = transport(s)\n",
    "    p = walk(p)\n",
    "    print('{} and walk, now I am at {}'.format(transport.__name__, p))\n",
    "    \n",
    "travel(walk, start)    "
   ]
  },
  {
   "cell_type": "markdown",
   "metadata": {
    "slideshow": {
     "slide_type": "subslide"
    }
   },
   "source": [
    "Case-1, dragon, covariant for both argument and return value\n",
    "\n",
    "$$S_1 = S_2 = \\text{\\{x:Nat, y:Nat, z:Nat\\}} <: \\text{\\{x:Nat, y:Nat}\\} = T_1 = T_2$$\n",
    "\n",
    "$$\\frac{S_1 <: T_1 \\quad S_2 <: T_2}{S_1 \\rightarrow S_2 <: T_1 \\rightarrow T_2} \\quad\\quad (\\textbf{S-ARROW-1})$$"
   ]
  },
  {
   "cell_type": "code",
   "execution_count": 2,
   "metadata": {
    "collapsed": false,
    "slideshow": {
     "slide_type": "fragment"
    }
   },
   "outputs": [],
   "source": [
    "# {x:Nat, y:Nat, z:Nat} -> {x:Nat, y:Nat, z:Nat}\n",
    "def dragon(p):\n",
    "    return {'x': p['x']+10, 'y': p['y']+50, 'z': p['z']+1}"
   ]
  },
  {
   "cell_type": "code",
   "execution_count": 3,
   "metadata": {
    "collapsed": false,
    "slideshow": {
     "slide_type": "fragment"
    }
   },
   "outputs": [
    {
     "ename": "KeyError",
     "evalue": "'z'",
     "output_type": "error",
     "traceback": [
      "\u001b[0;31m---------------------------------------------------------------------------\u001b[0m",
      "\u001b[0;31mKeyError\u001b[0m                                  Traceback (most recent call last)",
      "\u001b[0;32m<ipython-input-3-23db96d002d1>\u001b[0m in \u001b[0;36m<module>\u001b[0;34m()\u001b[0m\n\u001b[0;32m----> 1\u001b[0;31m \u001b[0mtravel\u001b[0m\u001b[0;34m(\u001b[0m\u001b[0mdragon\u001b[0m\u001b[0;34m,\u001b[0m \u001b[0mstart\u001b[0m\u001b[0;34m)\u001b[0m\u001b[0;34m\u001b[0m\u001b[0m\n\u001b[0m",
      "\u001b[0;32m<ipython-input-1-34b69477b92c>\u001b[0m in \u001b[0;36mtravel\u001b[0;34m(transport, s)\u001b[0m\n\u001b[1;32m      7\u001b[0m \u001b[0;31m# ({x:Nat, y:Nat} -> {x:Nat, y:Nat}) -> {x:Nat, y:Nat} -> Unit\u001b[0m\u001b[0;34m\u001b[0m\u001b[0;34m\u001b[0m\u001b[0m\n\u001b[1;32m      8\u001b[0m \u001b[0;32mdef\u001b[0m \u001b[0mtravel\u001b[0m\u001b[0;34m(\u001b[0m\u001b[0mtransport\u001b[0m\u001b[0;34m,\u001b[0m \u001b[0ms\u001b[0m\u001b[0;34m)\u001b[0m\u001b[0;34m:\u001b[0m\u001b[0;34m\u001b[0m\u001b[0m\n\u001b[0;32m----> 9\u001b[0;31m     \u001b[0mp\u001b[0m \u001b[0;34m=\u001b[0m \u001b[0mtransport\u001b[0m\u001b[0;34m(\u001b[0m\u001b[0ms\u001b[0m\u001b[0;34m)\u001b[0m\u001b[0;34m\u001b[0m\u001b[0m\n\u001b[0m\u001b[1;32m     10\u001b[0m     \u001b[0mp\u001b[0m \u001b[0;34m=\u001b[0m \u001b[0mwalk\u001b[0m\u001b[0;34m(\u001b[0m\u001b[0mp\u001b[0m\u001b[0;34m)\u001b[0m\u001b[0;34m\u001b[0m\u001b[0m\n\u001b[1;32m     11\u001b[0m     \u001b[0mprint\u001b[0m\u001b[0;34m(\u001b[0m\u001b[0;34m'{} and walk, now I am at {}'\u001b[0m\u001b[0;34m.\u001b[0m\u001b[0mformat\u001b[0m\u001b[0;34m(\u001b[0m\u001b[0mtransport\u001b[0m\u001b[0;34m.\u001b[0m\u001b[0m__name__\u001b[0m\u001b[0;34m,\u001b[0m \u001b[0mp\u001b[0m\u001b[0;34m)\u001b[0m\u001b[0;34m)\u001b[0m\u001b[0;34m\u001b[0m\u001b[0m\n",
      "\u001b[0;32m<ipython-input-2-d5e24f1d32d0>\u001b[0m in \u001b[0;36mdragon\u001b[0;34m(p)\u001b[0m\n\u001b[1;32m      1\u001b[0m \u001b[0;31m# {x:Nat, y:Nat, z:Nat} -> {x:Nat, y:Nat, z:Nat}\u001b[0m\u001b[0;34m\u001b[0m\u001b[0;34m\u001b[0m\u001b[0m\n\u001b[1;32m      2\u001b[0m \u001b[0;32mdef\u001b[0m \u001b[0mdragon\u001b[0m\u001b[0;34m(\u001b[0m\u001b[0mp\u001b[0m\u001b[0;34m)\u001b[0m\u001b[0;34m:\u001b[0m\u001b[0;34m\u001b[0m\u001b[0m\n\u001b[0;32m----> 3\u001b[0;31m     \u001b[0;32mreturn\u001b[0m \u001b[0;34m{\u001b[0m\u001b[0;34m'x'\u001b[0m\u001b[0;34m:\u001b[0m \u001b[0mp\u001b[0m\u001b[0;34m[\u001b[0m\u001b[0;34m'x'\u001b[0m\u001b[0;34m]\u001b[0m\u001b[0;34m+\u001b[0m\u001b[0;36m10\u001b[0m\u001b[0;34m,\u001b[0m \u001b[0;34m'y'\u001b[0m\u001b[0;34m:\u001b[0m \u001b[0mp\u001b[0m\u001b[0;34m[\u001b[0m\u001b[0;34m'y'\u001b[0m\u001b[0;34m]\u001b[0m\u001b[0;34m+\u001b[0m\u001b[0;36m50\u001b[0m\u001b[0;34m,\u001b[0m \u001b[0;34m'z'\u001b[0m\u001b[0;34m:\u001b[0m \u001b[0mp\u001b[0m\u001b[0;34m[\u001b[0m\u001b[0;34m'z'\u001b[0m\u001b[0;34m]\u001b[0m\u001b[0;34m+\u001b[0m\u001b[0;36m1\u001b[0m\u001b[0;34m}\u001b[0m\u001b[0;34m\u001b[0m\u001b[0m\n\u001b[0m",
      "\u001b[0;31mKeyError\u001b[0m: 'z'"
     ]
    }
   ],
   "source": [
    "travel(dragon, start)"
   ]
  },
  {
   "cell_type": "markdown",
   "metadata": {
    "slideshow": {
     "slide_type": "subslide"
    }
   },
   "source": [
    "In fact, covariant for both argument and return value sometimes does work"
   ]
  },
  {
   "cell_type": "code",
   "execution_count": null,
   "metadata": {
    "collapsed": false,
    "slideshow": {
     "slide_type": "fragment"
    }
   },
   "outputs": [],
   "source": [
    "# {x:Nat, y:Nat, z:Nat} <: {x:Nat, y:Nat}\n",
    "new_start = {'x': start['x'], 'y': start['y'], 'z': 0}\n",
    "travel(dragon, new_start)"
   ]
  },
  {
   "cell_type": "markdown",
   "metadata": {
    "slideshow": {
     "slide_type": "fragment"
    }
   },
   "source": [
    "But our type system need to be sound, not might work when special input is provided"
   ]
  },
  {
   "cell_type": "markdown",
   "metadata": {
    "slideshow": {
     "slide_type": "subslide"
    }
   },
   "source": [
    "Case-2, train, contravariant for both argument and return value\n",
    "\n",
    "$$T_1 = T_2 = \\text{\\{x:Nat, y:Nat\\}} <: \\text{\\{y:Nat}\\} = S_1 = S_2$$\n",
    "\n",
    "$$\\frac{T_1 <: S_1 \\quad T_2 <: S_2}{S_1 \\rightarrow S_2 <: T_1 \\rightarrow T_2} \\quad\\quad (\\textbf{S-ARROW-2})$$"
   ]
  },
  {
   "cell_type": "code",
   "execution_count": null,
   "metadata": {
    "collapsed": true,
    "slideshow": {
     "slide_type": "fragment"
    }
   },
   "outputs": [],
   "source": [
    "# {y:Nat} -> {y:Nat}\n",
    "def train(p):\n",
    "    return {'y': p['y']+50}"
   ]
  },
  {
   "cell_type": "code",
   "execution_count": null,
   "metadata": {
    "collapsed": false,
    "scrolled": true,
    "slideshow": {
     "slide_type": "fragment"
    }
   },
   "outputs": [],
   "source": [
    "travel(train, start, end)"
   ]
  },
  {
   "cell_type": "markdown",
   "metadata": {
    "slideshow": {
     "slide_type": "subslide"
    }
   },
   "source": [
    "Case-3, dragon_train, covariant for argument and contravariant for return value\n",
    "\n",
    "$$ \\text{\\{x:Nat, y:Nat, z:Nat\\}} = S_1 <: T_1 = \\text{\\{x:Nat, y:Nat\\}} = T_2 <: S_2 = \\text{\\{y:Nat\\}}$$\n",
    "$$\\frac{S_1 <: T_1 \\quad T_2 <: S_2}{S_1 \\rightarrow S_2 <: T_1 \\rightarrow T_2} \\quad\\quad (\\textbf{S-ARROW-3})$$"
   ]
  },
  {
   "cell_type": "code",
   "execution_count": null,
   "metadata": {
    "collapsed": true,
    "slideshow": {
     "slide_type": "fragment"
    }
   },
   "outputs": [],
   "source": [
    "# {x:Nat, y:Nat, z:Nat} -> {y:Nat}\n",
    "def dragon_train(p):\n",
    "    p = {'x': p['x'], 'y': p['y'], 'z': 0}\n",
    "    return train(dragon(p))"
   ]
  },
  {
   "cell_type": "code",
   "execution_count": null,
   "metadata": {
    "collapsed": false,
    "scrolled": true,
    "slideshow": {
     "slide_type": "fragment"
    }
   },
   "outputs": [],
   "source": [
    "travel(dragon_train, start, end)"
   ]
  },
  {
   "cell_type": "markdown",
   "metadata": {
    "slideshow": {
     "slide_type": "subslide"
    }
   },
   "source": [
    "Case-4, train_dragon, contravariant for argument and covariant for return value\n",
    "\n",
    "$$ \\text{\\{x:Nat, y:Nat, z:Nat\\}} = S_2 <: T_2 = \\text{\\{x:Nat, y:Nat\\}} = T_1 <: S_1 = \\text{\\{y:Nat\\}}$$\n",
    "$$\\frac{T_1 <: S_1 \\quad S_2 <: T_2}{S_1 \\rightarrow S_2 <: T_1 \\rightarrow T_2} \\quad\\quad (\\textbf{S-ARROW})$$"
   ]
  },
  {
   "cell_type": "code",
   "execution_count": null,
   "metadata": {
    "collapsed": true,
    "slideshow": {
     "slide_type": "fragment"
    }
   },
   "outputs": [],
   "source": [
    "# {y:Nat} -> {x:Nat, y:Nat, z:Nat}\n",
    "def train_dragon(p):\n",
    "    x = p['x']\n",
    "    p = train(p)\n",
    "    p = {'x': x, 'y': p['y'], 'z': 0} # get off the train and get on the dragon\n",
    "    return dragon(p)"
   ]
  },
  {
   "cell_type": "code",
   "execution_count": null,
   "metadata": {
    "collapsed": false,
    "slideshow": {
     "slide_type": "fragment"
    }
   },
   "outputs": [],
   "source": [
    "travel(train_dragon, start, end)"
   ]
  },
  {
   "cell_type": "markdown",
   "metadata": {
    "slideshow": {
     "slide_type": "subslide"
    }
   },
   "source": [
    "In conclusion, you can replace a function w/ its subtype because the subtype\n",
    "\n",
    "- has less requirement for argument (loosen input, contravariant) thus won't break upstream (function that call this function) \n",
    "- is more specific for output (strict ouput, covariant) thus won't break down stream (function that accept return value of this function)\n",
    "\n",
    "$$\\text{loosen input, strict output (both ok) } \\frac{T_1 <: S_1 \\quad S_2 <: T_2}{S_1 \\rightarrow S_2 <: T_1 \\rightarrow T_2} \\quad\\quad (\\textbf{S-ARROW})$$\n",
    "\n",
    "$$\\text{strict input (upstream fail), strict output } \\frac{S_1 <: T_1 \\quad S_2 <: T_2}{S_1 \\rightarrow S_2 <: T_1 \\rightarrow T_2} \\quad\\quad (\\textbf{S-ARROW-1})$$\n",
    "\n",
    "$$\\text{loosen input, loosen output (downstream fail) } \\frac{T_1 <: S_1 \\quad T_2 <: S_2}{S_1 \\rightarrow S_2 <: T_1 \\rightarrow T_2} \\quad\\quad (\\textbf{S-ARROW-2})$$\n",
    "\n",
    "$$\\text{strict input, loosen output (both fail) } \\frac{S_1 <: T_1 \\quad T_2 <: S_2}{S_1 \\rightarrow S_2 <: T_1 \\rightarrow T_2} \\quad\\quad (\\textbf{S-ARROW-3})$$"
   ]
  },
  {
   "cell_type": "markdown",
   "metadata": {
    "slideshow": {
     "slide_type": "slide"
    }
   },
   "source": [
    "#### Visualize function subtyping\n",
    "\n",
    "If we treat functions as funnel [5] and value is water flow inside them from top to bottom, safe means not leaking water.\n",
    "\n",
    "Case-0 exact same type $S_1 = T_1$ and $S_2 = T_2$\n",
    "\n",
    "![funnel-exact](funnel-exact.png)"
   ]
  },
  {
   "cell_type": "markdown",
   "metadata": {
    "slideshow": {
     "slide_type": "subslide"
    }
   },
   "source": [
    "Case-1 covariant in both argument and return value $S_1 <: T_1$ and $S_2 <: T_2$\n",
    "\n",
    "![funnel-co](funnel-covariant.png)"
   ]
  },
  {
   "cell_type": "markdown",
   "metadata": {
    "slideshow": {
     "slide_type": "subslide"
    }
   },
   "source": [
    "Case-2 contravariant in both argument and return value $T_1 <: S_1$ and $T_2 <: S_2$\n",
    "\n",
    "![funnel-contravariant](funnel-contravariant.png)"
   ]
  },
  {
   "cell_type": "markdown",
   "metadata": {
    "slideshow": {
     "slide_type": "subslide"
    }
   },
   "source": [
    "Case-3 covariant in argument and contravariant in return value $S_1 <: T_1$ and $T_2 <: S_2$\n",
    "\n",
    "![funnel-co-contra](funnel-co-contra.png)"
   ]
  },
  {
   "cell_type": "markdown",
   "metadata": {
    "slideshow": {
     "slide_type": "subslide"
    }
   },
   "source": [
    "S-Arrow, contravariant in argument and covariant in return value $T_1 <: S_1$ and $S_2 <: T_2$\n",
    "\n",
    "![funnel-contra-co](funnel-contra-co.png)"
   ]
  },
  {
   "cell_type": "markdown",
   "metadata": {
    "slideshow": {
     "slide_type": "subslide"
    }
   },
   "source": [
    "![funnel-all](funnel-all.png)"
   ]
  },
  {
   "cell_type": "markdown",
   "metadata": {
    "slideshow": {
     "slide_type": "slide"
    }
   },
   "source": [
    "### 15.4 Top & Bottom <a name=\"top-bottom\"></a>\n",
    "\n",
    "- top: a supertype of every type **S <: Top**\n",
    "- bottom: a subtype of every type **Bot <: T**\n",
    "\n",
    "![top-bottom](top-bottom.png)"
   ]
  },
  {
   "cell_type": "markdown",
   "metadata": {
    "slideshow": {
     "slide_type": "subslide"
    }
   },
   "source": [
    "**Top**\n",
    "\n",
    "- like Object in Java\n",
    "\n",
    "**Bot**\n",
    "\n",
    "- is empty, no closed values\n",
    "- not like `null` in Java [5]\n",
    "- too complex for typecheck, omit in rest of the book"
   ]
  },
  {
   "cell_type": "markdown",
   "metadata": {
    "slideshow": {
     "slide_type": "slide"
    }
   },
   "source": [
    "### 15.5 Cast, Reference <a name=\"cast-reference\"></a>\n"
   ]
  },
  {
   "cell_type": "markdown",
   "metadata": {
    "slideshow": {
     "slide_type": "fragment"
    }
   },
   "source": [
    "####  Up-Cast\n",
    "\n",
    "- hide some detail\n",
    "\n",
    "````ocaml\n",
    "{x=0, y=1} as {x:Nat} (* hide y *)\n",
    "````\n",
    "\n",
    "````java\n",
    "public void UpCast(HashSet<String> hs) {\n",
    "    Set<String> s = hs;\n",
    "}\n",
    "````"
   ]
  },
  {
   "cell_type": "markdown",
   "metadata": {
    "slideshow": {
     "slide_type": "fragment"
    }
   },
   "source": [
    "####  Down-Cost\n",
    "\n",
    "- not sound\n",
    "- \"poor man\"'s polymorphism (Java)\n",
    "- use type tag \n",
    "\n",
    "$$f = \\lambda\\text{x:Top. (x as \\{a:Nat\\}).a};$$\n",
    "\n",
    "````java\n",
    "public void DownCast(Set<String> s) {\n",
    "    HashSet<String> hs = (HashSet<String>) s;\n",
    "}\n",
    "````\n",
    "\n",
    "$$\\frac{\\Gamma \\vdash t_1:T}{\\Gamma \\vdash t_1 \\text{ as } S : S} \\quad\\quad \\textbf{T-DOWNCAST}$$\n",
    "\n",
    "$$\\frac{\\vdash v_1 : T}{v_1 \\text{ as } T \\rightarrow v_1} \\quad\\quad \\textbf{E-DOWNCAST}$$"
   ]
  },
  {
   "cell_type": "markdown",
   "metadata": {
    "slideshow": {
     "slide_type": "slide"
    }
   },
   "source": [
    "## 16 Metatheory of Subtyping"
   ]
  },
  {
   "cell_type": "markdown",
   "metadata": {
    "slideshow": {
     "slide_type": "slide"
    }
   },
   "source": [
    "### 16.1 Algorithmic Subtyping"
   ]
  },
  {
   "cell_type": "markdown",
   "metadata": {
    "slideshow": {
     "slide_type": "slide"
    }
   },
   "source": [
    "### 16.2 Algorithmic Typing"
   ]
  },
  {
   "cell_type": "markdown",
   "metadata": {
    "slideshow": {
     "slide_type": "slide"
    }
   },
   "source": [
    "## Take away <a name=\"take-away\"></a>\n",
    "\n",
    "- function subtyping is contravariant for argument and covariant for return value\n",
    "- reference (mutable) makes subtyping complex\n",
    "- the source of the presentation is on GitHub [at15/papers-i-read](https://github.com/at15/papers-i-read/tree/master/book/tapl)\n",
    "- implementation is currently on GitHub [at15/reika](https://github.com/at15/reika/tree/master/tapl)"
   ]
  },
  {
   "cell_type": "markdown",
   "metadata": {
    "slideshow": {
     "slide_type": "slide"
    }
   },
   "source": [
    "## Reference <a name=\"reference\"></a>\n",
    "\n",
    "Books\n",
    "\n",
    "- [1] Types and Programming Language (2nd Edition)\n",
    "\n",
    "Courses\n",
    "\n",
    "- [2] [Coursera Programming Languages Part C Week 3](https://www.coursera.org/learn/programming-languages-part-c/lecture/mdwdY/subtyping-from-the-beginning)\n",
    "- [3] [EPFL Type Systems 2004](http://lampwww.epfl.ch/teaching/archive/type_systems/2004/)\n",
    "- [4] [EPFL Foundations of Software 2017](https://fos2017.github.io/)\n",
    "\n",
    "Meetup\n",
    "\n",
    "- [5] [Computational Club (UK) TAPL reading meetup](https://github.com/computationclub/computationclub.github.io/wiki/Types-and-Programming-Languages-Chapter-15-Subtyping-%E2%80%93-Part-1)\n",
    "\n",
    "Miscellaneous\n",
    "\n",
    "- http://www.slideviper.oquanta.info/tutorial/slideshow_tutorial_slides.html#/\n",
    "- [Presenting slide using Jupyter notebook](https://medium.com/@mjspeck/presenting-code-using-jupyter-notebook-slides-a8a3c3b59d67)"
   ]
  }
 ],
 "metadata": {
  "celltoolbar": "Slideshow",
  "kernelspec": {
   "display_name": "Python 3",
   "language": "python",
   "name": "python3"
  },
  "language_info": {
   "codemirror_mode": {
    "name": "ipython",
    "version": 3
   },
   "file_extension": ".py",
   "mimetype": "text/x-python",
   "name": "python",
   "nbconvert_exporter": "python",
   "pygments_lexer": "ipython3",
   "version": "3.6.0"
  }
 },
 "nbformat": 4,
 "nbformat_minor": 2
}
