{
 "cells": [
  {
   "cell_type": "markdown",
   "metadata": {},
   "source": [
    "# Subtyping"
   ]
  },
  {
   "cell_type": "markdown",
   "metadata": {},
   "source": [
    "## Questions"
   ]
  },
  {
   "cell_type": "markdown",
   "metadata": {},
   "source": [
    "- subtyping on record seems more like duck typing to me, see [HN post](https://news.ycombinator.com/item?id=13047934)\n",
    "- it seems ocaml's subtyping symbol is :> instead of of the <:, https://caml.inria.fr/pub/docs/oreilly-book/html/book-ora144.html\n",
    "- evaluation rule is same, only typing rule is updated? https://www.ps.uni-saarland.de/courses/seminar-ws02/Subtyping.slides.pdf\n",
    "- 15.2.5 exercies, if extend with product type T1 x T2 describted in 11.6, we can have depth subtyping rule, is it a good idea to add a width typing rule for produces as we did for record \n",
    "  - record (same as tuple) is T1 * T2 if I remember correctly, what's the T1 x T2 then? for variant, it's T1 + T2? is it?\n",
    "  - I think it might just be using x as * for multiply\n",
    "- in 15.5 Lists, mentionded covariant (records, variants, as well as function types on their right hand side) and contravariant (arrow, on the left-hand side) <a href=\"https://en.wikipedia.org/wiki/Covariance_and_contravariance_(computer_science)\">wiki</a>"
   ]
  },
  {
   "cell_type": "markdown",
   "metadata": {},
   "source": [
    "## Motivation"
   ]
  },
  {
   "cell_type": "markdown",
   "metadata": {},
   "source": [
    "Too restrictive i.e.\n",
    "\n",
    "($\\lambda$ r:{x:Nat}. r.x) {x=0,y=1}"
   ]
  },
  {
   "cell_type": "markdown",
   "metadata": {},
   "source": [
    "Let's express this in OCaml, well, OCaml actually [doesn't support record subtying](https://stackoverflow.com/questions/15237598/why-doesnt-ocaml-support-record-subtyping)\n",
    "\n",
    "````ocaml\n",
    "type xt = {x:int}\n",
    "type xyt = {x:int; y:int}\n",
    "let f (r:xt) = r.x\n",
    "let vxt = {x=1}\n",
    "let vxyt = {x=2; y=3}\n",
    "f vxt (* ok *)\n",
    "f vxtt (* not ok ... *)\n",
    "````"
   ]
  },
  {
   "cell_type": "markdown",
   "metadata": {},
   "source": [
    "S is a *subtype* of T written S <: T, mean any term of type S can safely be used in a context where a term of type T is expected\n",
    "\n",
    "$$\\frac{\\Gamma \\vdash t : S \\quad S <: T}{\\Gamma \\vdash t : T} \\quad\\quad \\textbf{(T-SUB)}$$"
   ]
  },
  {
   "cell_type": "markdown",
   "metadata": {},
   "source": [
    "Since function can be passed as argument, we must also give a subtyping rule for function types\n",
    "\n",
    "$$\\frac{T_1 <: S_1 \\quad S_2 <: T_2}{S_1 -> S_2 <: T_1 -> T_2} \\quad\\quad (\\textbf{S-ARROW})$$"
   ]
  },
  {
   "cell_type": "markdown",
   "metadata": {},
   "source": [
    "Example\n",
    "\n",
    "TODO: still can't find a good example\n",
    "\n",
    "\n",
    "let f1 = $\\lambda$ r:{x:Nat}. {x=r.x, y=r.x}\n",
    "\n",
    "{x:Nat} -> {x:Nat, y:Nat}\n",
    "\n",
    "let f2 = $\\lambda$ r:{x:Nat, y:Nat}. {x=r.x}\n",
    "\n",
    "{x:Nat, y:Nat} -> {x:Nat}\n",
    "\n",
    "f1 <: f2\n",
    "\n",
    "````\n",
    "let r2 = f2 {x=1, y=2} \n",
    "let r2' = f1 {x=1, y=2} \n",
    "// NOTE: kind of figure out the S-ARROW now, but still no concrete example that you can be found in OO language\n",
    "// argument {x:Nat, y:Nat} is subtype of what f1 is expecting, so you can apply \n",
    "// return {x:Nat, y:Nat} is subtype of what people calling f2 is expecting, so they can use the returned value safely\n",
    "````"
   ]
  },
  {
   "cell_type": "markdown",
   "metadata": {
    "collapsed": true
   },
   "source": [
    "http://lampwww.epfl.ch/teaching/archive/type_systems/2004/slides/5.pdf the image is really good \n",
    "\n",
    "![s-arrow](s-arrow.png)"
   ]
  },
  {
   "cell_type": "markdown",
   "metadata": {},
   "source": [
    "from wiki Covariance and contravariance (computer science)\n",
    "\n",
    ">  For example in OCaml, \"list of Cat\" is a subtype of \"list of Animal\" because the list constructor is covariant, while \"function from Animal to String\" is a subtype of \"function from Cat to String\" because the function type constructor is contravariant in the argument type"
   ]
  },
  {
   "cell_type": "markdown",
   "metadata": {},
   "source": [
    "don't quite get the arithmic implementation .... only knowing it is because the direct use of the specified subtyping is hard to use in real type checker .... also the course from epfl has scala implementation (and their course at 2004 seems to have so few people ...)"
   ]
  },
  {
   "cell_type": "markdown",
   "metadata": {},
   "source": [
    "https://github.com/computationclub/computationclub.github.io/wiki/Types-and-Programming-Languages-Chapter-15-Subtyping-%E2%80%93-Part-1\n",
    "\n",
    "also have an example on s-arrow, for Int -> Int\n",
    "\n",
    "also they use euler diagram to visualize it https://en.wikipedia.org/wiki/Euler_diagram\n",
    "\n",
    "the funnel example is great ! As this was all rather counter-intuitive, @jcoglan suggested an analogy: funnels."
   ]
  },
  {
   "cell_type": "markdown",
   "metadata": {},
   "source": [
    "Finally, @tomstuart closed the meeting by summarising an important point about the tricksy S-Arrow:\n",
    "\n",
    "When I have taught this before, people often make the mistake of thinking that functions are now contravariant in their argument types and covariant in their return types: this is not what the chapter is saying.\n",
    "(As S-Arrow describes the substitutability of entire function types, i.e. when can you replace some type T → T with another, not just the substitutability of argument types and return types in general. To use our funnel analogy, we're not talking about substituting the input and output of the funnel, we're talking about substituting the funnel itself."
   ]
  },
  {
   "cell_type": "markdown",
   "metadata": {},
   "source": [
    "**I think I finally get it** the confusion is mix abstraction (function) with application (calling function)\n",
    "\n",
    "($\\lambda$ r:{x:Nat} r.x) {x=1}\n",
    "\n",
    "($\\lambda$ r:{x:Nat} r.x) {x=1, y=1}\n",
    "\n",
    "in the above, we think we can pass subtype as function argument, so for S-Arrow, if we are still thinking about parameter along, we get the wrong idea"
   ]
  },
  {
   "cell_type": "code",
   "execution_count": null,
   "metadata": {
    "collapsed": true
   },
   "outputs": [],
   "source": []
  }
 ],
 "metadata": {
  "kernelspec": {
   "display_name": "Python 3",
   "language": "python",
   "name": "python3"
  },
  "language_info": {
   "codemirror_mode": {
    "name": "ipython",
    "version": 3
   },
   "file_extension": ".py",
   "mimetype": "text/x-python",
   "name": "python",
   "nbconvert_exporter": "python",
   "pygments_lexer": "ipython3",
   "version": "3.6.0"
  }
 },
 "nbformat": 4,
 "nbformat_minor": 2
}
