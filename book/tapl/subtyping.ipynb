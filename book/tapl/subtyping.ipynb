{
 "cells": [
  {
   "cell_type": "markdown",
   "metadata": {},
   "source": [
    "# Subtyping"
   ]
  },
  {
   "cell_type": "markdown",
   "metadata": {},
   "source": [
    "## Questions"
   ]
  },
  {
   "cell_type": "markdown",
   "metadata": {},
   "source": [
    "- subtyping on record seems more like duck typing to me, see [HN post](https://news.ycombinator.com/item?id=13047934)\n",
    "- it seems ocaml's subtyping symbol is :> instead of of the <:, https://caml.inria.fr/pub/docs/oreilly-book/html/book-ora144.html\n",
    "- evaluation rule is same, only typing rule is updated? https://www.ps.uni-saarland.de/courses/seminar-ws02/Subtyping.slides.pdf\n",
    "- 15.2.5 exercies, if extend with product type T1 x T2 describted in 11.6, we can have depth subtyping rule, is it a good idea to add a width typing rule for produces as we did for record \n",
    "  - record (same as tuple) is T1 * T2 if I remember correctly, what's the T1 x T2 then? for variant, it's T1 + T2? is it?\n",
    "- in 15.5 Lists, mentionded covariant (records, variants, as well as function types on their right hand side) and contravariant (arrow, on the left-hand side) https://en.wikipedia.org/wiki/Covariance_and_contravariance_(computer_science)"
   ]
  },
  {
   "cell_type": "markdown",
   "metadata": {},
   "source": [
    "## Motivation"
   ]
  },
  {
   "cell_type": "markdown",
   "metadata": {},
   "source": [
    "Too restrictive i.e.\n",
    "\n",
    "($\\lambda$ r:{x:Nat}. r.x) {x=0,y=1}"
   ]
  },
  {
   "cell_type": "markdown",
   "metadata": {},
   "source": [
    "Let's express this in OCaml, well, OCaml actually [doesn't support record subtying](https://stackoverflow.com/questions/15237598/why-doesnt-ocaml-support-record-subtyping)\n",
    "\n",
    "````ocaml\n",
    "type xt = {x:int}\n",
    "type xyt = {x:int; y:int}\n",
    "let f (r:xt) = r.x\n",
    "let vxt = {x=1}\n",
    "let vxyt = {x=2; y=3}\n",
    "f vxt (* ok *)\n",
    "f vxtt (* not ok ... *)\n",
    "````"
   ]
  },
  {
   "cell_type": "markdown",
   "metadata": {},
   "source": [
    "S is a *subtype* of T written S <: T, mean any term of type S can safely be used in a context where a term of type T is expected\n",
    "\n",
    "$$\\frac{\\Gamma \\vdash t : S \\quad S <: T}{\\Gamma \\vdash t : T} \\quad\\quad \\textbf{(T-SUB)}$$"
   ]
  },
  {
   "cell_type": "markdown",
   "metadata": {},
   "source": [
    "Since function can be passed as argument, we must also give a subtyping rule for function types\n",
    "\n",
    "$$\\frac{T_1 <: S_1 \\quad S_2 <: T_2}{S_1 -> S_2 <: T_1 -> T_2} \\quad\\quad (\\textbf{S-ARROW})$$"
   ]
  },
  {
   "cell_type": "markdown",
   "metadata": {},
   "source": [
    "Example\n",
    "\n",
    "TODO: still can't find a good example\n",
    "\n",
    "\n",
    "let f1 = $\\lambda$ r:{x:Nat}. {x=r.x, y=r.x}\n",
    "\n",
    "{x:Nat} -> {x:Nat, y:Nat}\n",
    "\n",
    "let f2 = $\\lambda$ r:{x:Nat, y:Nat}. {x=r.x}\n",
    "\n",
    "{x:Nat, y:Nat} -> {x:Nat}\n",
    "\n",
    "f1 <: f2\n",
    "\n",
    "````\n",
    "let r2 = f2 {x=1, y=2} \n",
    "let r2' = f1 {x=1, y=2} \n",
    "// NOTE: kind of figure out the S-ARROW now, but still no concrete example that you can be found in OO language\n",
    "// argument {x:Nat, y:Nat} is subtype of what f1 is expecting, so you can apply \n",
    "// return {x:Nat, y:Nat} is subtype of what people calling f2 is expecting, so they can use the returned value safely\n",
    "````"
   ]
  },
  {
   "cell_type": "code",
   "execution_count": null,
   "metadata": {
    "collapsed": true
   },
   "outputs": [],
   "source": []
  }
 ],
 "metadata": {
  "kernelspec": {
   "display_name": "Python 3",
   "language": "python",
   "name": "python3"
  },
  "language_info": {
   "codemirror_mode": {
    "name": "ipython",
    "version": 3
   },
   "file_extension": ".py",
   "mimetype": "text/x-python",
   "name": "python",
   "nbconvert_exporter": "python",
   "pygments_lexer": "ipython3",
   "version": "3.6.0"
  }
 },
 "nbformat": 4,
 "nbformat_minor": 2
}
